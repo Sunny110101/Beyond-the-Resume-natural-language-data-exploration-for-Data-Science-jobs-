{
 "cells": [
  {
   "cell_type": "code",
   "execution_count": 1,
   "metadata": {},
   "outputs": [
    {
     "name": "stdout",
     "output_type": "stream",
     "text": [
      "Overwriting app.py\n"
     ]
    }
   ],
   "source": [
    "%%writefile app.py\n",
    "\n",
    "import os\n",
    "import streamlit as st\n",
    "import joblib\n",
    "import pandas as pd\n",
    "import duckdb\n",
    "from pandasai import Agent\n",
    "\n",
    "# Set up the API key for Pandas AI\n",
    "os.environ[\"PANDASAI_API_KEY\"] = \"xxxxxxxxx",
    "\n",
    "# Load the saved RandomForest model\n",
    "best_rf = joblib.load('best_rf_model.pkl')\n",
    "\n",
    "# Load your dataset\n",
    "data = pd.read_csv('data_with_predictions.csv')\n",
    "\n",
    "# Create a unique cache file path for DuckDB\n",
    "cache_filepath = 'unique_cache_file.duckdb'\n",
    "duckdb.connect(database=cache_filepath, read_only=False)\n",
    "\n",
    "# Initialize the Pandas AI agent with the data and the unique cache file\n",
    "agent = Agent(data)\n",
    "\n",
    "# Streamlit web app\n",
    "st.title(\"Pandas AI Chat with Job Data\")\n",
    "\n",
    "st.write(\"Ask questions about the job data and get insights!\")\n",
    "\n",
    "# Input for the user to ask questions\n",
    "user_input = st.text_input(\"Ask a question to Pandas AI:\")\n",
    "\n",
    "# Button to submit the question\n",
    "if st.button(\"Submit\"):\n",
    "    if user_input:\n",
    "        # Get the response from the Pandas AI agent\n",
    "        response = agent.chat(user_input)\n",
    "\n",
    "        # Display the response\n",
    "        st.write(\"Response from Pandas AI:\")\n",
    "        st.write(response)\n",
    "    else:\n",
    "        st.write(\"Please enter a question.\")\n"
   ]
  }
 ],
 "metadata": {
  "colab": {
   "provenance": []
  },
  "kernelspec": {
   "display_name": "Python 3 (ipykernel)",
   "language": "python",
   "name": "python3"
  },
  "language_info": {
   "codemirror_mode": {
    "name": "ipython",
    "version": 3
   },
   "file_extension": ".py",
   "mimetype": "text/x-python",
   "name": "python",
   "nbconvert_exporter": "python",
   "pygments_lexer": "ipython3",
   "version": "3.11.4"
  }
 },
 "nbformat": 4,
 "nbformat_minor": 1
}
